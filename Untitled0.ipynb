{
 "metadata": {
  "name": "",
  "signature": "sha256:e5b5a1f8aba9b634681c27e5103b543d8e03aee88f3dd1aed6461eb92470afe0"
 },
 "nbformat": 3,
 "nbformat_minor": 0,
 "worksheets": [
  {
   "cells": [
    {
     "cell_type": "code",
     "collapsed": false,
     "input": [
      "import numpy as np\n",
      "import pysal as ps\n",
      "try:\n",
      "    reload(network)\n",
      "except:\n",
      "    import network\n",
      "import util"
     ],
     "language": "python",
     "metadata": {},
     "outputs": [],
     "prompt_number": 148
    },
    {
     "cell_type": "code",
     "collapsed": false,
     "input": [
      "ntw = network.Network('geodanet/streets.shp')\n",
      "\n",
      "#Snap a point pattern to the network\n",
      "ntw.snapobservations('geodanet/crimes.shp', 'crimes', attribute=True)\n",
      "ntw.snapobservations('geodanet/schools.shp', 'schools', attribute=False)"
     ],
     "language": "python",
     "metadata": {},
     "outputs": [],
     "prompt_number": 149
    },
    {
     "cell_type": "markdown",
     "metadata": {},
     "source": [
      "####A network is composed of a single topological representation of a road and $n$ point patterns which are snapped to the network."
     ]
    },
    {
     "cell_type": "code",
     "collapsed": false,
     "input": [
      "ntw.pointpatterns"
     ],
     "language": "python",
     "metadata": {},
     "outputs": [
      {
       "metadata": {},
       "output_type": "pyout",
       "prompt_number": 13,
       "text": [
        "{'crimes': <network.PointPattern instance at 0x103faefc8>,\n",
        " 'schools': <network.PointPattern instance at 0x108dfcb90>}"
       ]
      }
     ],
     "prompt_number": 13
    },
    {
     "cell_type": "code",
     "collapsed": false,
     "input": [
      "dir(ntw.pointpatterns['crimes'])"
     ],
     "language": "python",
     "metadata": {},
     "outputs": [
      {
       "metadata": {},
       "output_type": "pyout",
       "prompt_number": 14,
       "text": [
        "['__doc__',\n",
        " '__init__',\n",
        " '__module__',\n",
        " 'dist_to_node',\n",
        " 'npoints',\n",
        " 'obs_to_edge',\n",
        " 'obs_to_node',\n",
        " 'points',\n",
        " 'snapped_coordinates']"
       ]
      }
     ],
     "prompt_number": 14
    },
    {
     "cell_type": "markdown",
     "metadata": {},
     "source": [
      "#####Attributes for every point pattern\n",
      "\n",
      "1. dist_to_node dict keyed by pointid with the value being a dict in the form {node: distance to node, node: distance to node}\n",
      "2. obs_to_edge dict keyed by edge with the value being a dict in the form {pointID:(x-coord, y-coord), pointID:(x-coord, y-coord), ... }\n",
      "3. obs_to_node\n",
      "4. points geojson like representation of the point pattern.  Includes properties if read with attributes=True\n",
      "5. snapped_coordinates dict keyed by pointid with the value being (x-coord, y-coord)"
     ]
    },
    {
     "cell_type": "markdown",
     "metadata": {},
     "source": [
      "####Counts per edge are important, but should not be precomputed since we have different representations of the network (digitized and graph currently).  (Relatively) Uniform segmentation still needs to be done."
     ]
    },
    {
     "cell_type": "code",
     "collapsed": false,
     "input": [
      "counts = ntw.count_per_edge(ntw.pointpatterns['crimes'].obs_to_edge, graph=False)\n",
      "counts"
     ],
     "language": "python",
     "metadata": {},
     "outputs": [
      {
       "metadata": {},
       "output_type": "pyout",
       "prompt_number": 10,
       "text": [
        "{(0, 2): 1,\n",
        " (1, 127): 3,\n",
        " (3, 10): 1,\n",
        " (3, 23): 1,\n",
        " (10, 11): 2,\n",
        " (10, 55): 1,\n",
        " (11, 12): 1,\n",
        " (12, 13): 4,\n",
        " (12, 179): 2,\n",
        " (14, 15): 8,\n",
        " (14, 139): 3,\n",
        " (14, 203): 2,\n",
        " (16, 138): 2,\n",
        " (17, 25): 3,\n",
        " (17, 41): 6,\n",
        " (18, 21): 1,\n",
        " (19, 20): 1,\n",
        " (19, 170): 1,\n",
        " (20, 22): 15,\n",
        " (20, 228): 1,\n",
        " (21, 114): 2,\n",
        " (24, 25): 4,\n",
        " (24, 26): 2,\n",
        " (26, 27): 1,\n",
        " (28, 29): 2,\n",
        " (29, 30): 7,\n",
        " (30, 31): 2,\n",
        " (31, 32): 2,\n",
        " (34, 35): 1,\n",
        " (36, 37): 2,\n",
        " (37, 38): 5,\n",
        " (39, 40): 1,\n",
        " (40, 41): 8,\n",
        " (42, 44): 1,\n",
        " (44, 166): 1,\n",
        " (46, 47): 1,\n",
        " (46, 221): 1,\n",
        " (50, 165): 4,\n",
        " (54, 66): 1,\n",
        " (56, 58): 2,\n",
        " (57, 69): 1,\n",
        " (57, 70): 1,\n",
        " (59, 94): 4,\n",
        " (59, 96): 1,\n",
        " (61, 62): 1,\n",
        " (62, 63): 1,\n",
        " (62, 174): 4,\n",
        " (63, 64): 1,\n",
        " (64, 65): 2,\n",
        " (64, 176): 1,\n",
        " (64, 188): 1,\n",
        " (69, 167): 1,\n",
        " (70, 71): 1,\n",
        " (70, 218): 1,\n",
        " (72, 221): 37,\n",
        " (73, 74): 2,\n",
        " (73, 220): 1,\n",
        " (75, 76): 1,\n",
        " (75, 97): 4,\n",
        " (77, 78): 1,\n",
        " (78, 211): 1,\n",
        " (79, 80): 1,\n",
        " (85, 98): 4,\n",
        " (86, 87): 1,\n",
        " (89, 182): 1,\n",
        " (92, 99): 1,\n",
        " (99, 100): 2,\n",
        " (102, 103): 1,\n",
        " (108, 160): 5,\n",
        " (109, 110): 2,\n",
        " (111, 112): 1,\n",
        " (115, 117): 6,\n",
        " (119, 229): 1,\n",
        " (122, 124): 1,\n",
        " (128, 129): 1,\n",
        " (128, 227): 1,\n",
        " (130, 131): 3,\n",
        " (130, 171): 5,\n",
        " (132, 134): 6,\n",
        " (134, 142): 1,\n",
        " (135, 143): 1,\n",
        " (137, 139): 7,\n",
        " (140, 142): 10,\n",
        " (141, 143): 1,\n",
        " (141, 196): 1,\n",
        " (143, 144): 2,\n",
        " (145, 146): 2,\n",
        " (146, 147): 2,\n",
        " (147, 148): 5,\n",
        " (147, 197): 5,\n",
        " (148, 149): 2,\n",
        " (151, 152): 1,\n",
        " (155, 156): 1,\n",
        " (156, 157): 1,\n",
        " (157, 158): 3,\n",
        " (158, 159): 1,\n",
        " (160, 161): 2,\n",
        " (161, 162): 1,\n",
        " (162, 163): 2,\n",
        " (163, 164): 1,\n",
        " (166, 200): 2,\n",
        " (181, 187): 2,\n",
        " (183, 184): 3,\n",
        " (189, 215): 2,\n",
        " (204, 219): 1,\n",
        " (207, 220): 3,\n",
        " (225, 226): 2}"
       ]
      }
     ],
     "prompt_number": 10
    },
    {
     "cell_type": "markdown",
     "metadata": {},
     "source": [
      "#####Moran's I using the digitized network"
     ]
    },
    {
     "cell_type": "code",
     "collapsed": false,
     "input": [
      "#Binary Adjacency\n",
      "ntw.contiguityweights(graph=False)\n",
      "\n",
      "#Build the y vector\n",
      "edges = ntw.w.neighbors.keys()\n",
      "y = np.zeros(len(edges))\n",
      "for i, e in enumerate(edges):\n",
      "    if e in counts.keys():\n",
      "        y[i] = counts[e]\n",
      "\n",
      "#Moran's I\n",
      "res = ps.esda.moran.Moran(y, ntw.w, permutations=99)\n",
      "print dir(res)"
     ],
     "language": "python",
     "metadata": {},
     "outputs": [
      {
       "output_type": "stream",
       "stream": "stdout",
       "text": [
        "['EI', 'EI_sim', 'I', 'VI_norm', 'VI_rand', 'VI_sim', '_Moran__calc', '_Moran__moments', '__doc__', '__init__', '__module__', 'n', 'p_norm', 'p_rand', 'p_sim', 'p_z_sim', 'permutations', 'seI_norm', 'seI_rand', 'seI_sim', 'sim', 'w', 'y', 'z', 'z2ss', 'z_norm', 'z_rand', 'z_sim']\n"
       ]
      }
     ],
     "prompt_number": 7
    },
    {
     "cell_type": "markdown",
     "metadata": {},
     "source": [
      "####Moran's I using the graph representation to generate the W\n",
      "\n",
      "Note that we have to regenerate the counts per edge, since the graph will have less edges."
     ]
    },
    {
     "cell_type": "code",
     "collapsed": false,
     "input": [
      "counts = ntw.count_per_edge(ntw.pointpatterns['crimes'].obs_to_edge, graph=True)\n",
      "\n",
      "#Binary Adjacency\n",
      "ntw.contiguityweights(graph=True)\n",
      "\n",
      "#Build the y vector\n",
      "edges = ntw.w.neighbors.keys()\n",
      "y = np.zeros(len(edges))\n",
      "for i, e in enumerate(edges):\n",
      "    if e in counts.keys():\n",
      "        y[i] = counts[e]\n",
      "\n",
      "#Moran's I\n",
      "res = ps.esda.moran.Moran(y, ntw.w, permutations=99)\n",
      "print dir(res)"
     ],
     "language": "python",
     "metadata": {},
     "outputs": [
      {
       "output_type": "stream",
       "stream": "stdout",
       "text": [
        "['EI', 'EI_sim', 'I', 'VI_norm', 'VI_rand', 'VI_sim', '_Moran__calc', '_Moran__moments', '__doc__', '__init__', '__module__', 'n', 'p_norm', 'p_rand', 'p_sim', 'p_z_sim', 'permutations', 'seI_norm', 'seI_rand', 'seI_sim', 'sim', 'w', 'y', 'z', 'z2ss', 'z_norm', 'z_rand', 'z_sim']\n"
       ]
      }
     ],
     "prompt_number": 8
    },
    {
     "cell_type": "markdown",
     "metadata": {},
     "source": [
      "####Simulate a point pattern on the network\n",
      "\n",
      "Need to supply a count of the number of points and a distirbution (default is uniform).  Generally this will not be called by the user, since the simulation will be used for Monte Carlo permutation."
     ]
    },
    {
     "cell_type": "code",
     "collapsed": false,
     "input": [
      "npts = ntw.pointpatterns['crimes'].npoints\n",
      "sim = ntw.simulate_observations(npts)"
     ],
     "language": "python",
     "metadata": {},
     "outputs": [],
     "prompt_number": 150
    },
    {
     "cell_type": "markdown",
     "metadata": {},
     "source": [
      "####Create a nearest neighbor matrix using the crimes point pattern"
     ]
    },
    {
     "cell_type": "code",
     "collapsed": false,
     "input": [
      "nearest = ntw.nearestneighbordistances('crimes')"
     ],
     "language": "python",
     "metadata": {},
     "outputs": [
      {
       "output_type": "stream",
       "stream": "stdout",
       "text": [
        "[[  3.00000000e+00   9.90170822e+01]\n",
        " [  2.00000000e+01   2.97717316e+02]\n",
        " [  5.00000000e+00   1.87181473e+02]\n",
        " [  1.70000000e+01   2.07816055e+02]\n",
        " [  2.00000000e+00   2.52121628e+02]\n",
        " [  2.00000000e+00   1.87181473e+02]\n",
        " [  2.00000000e+01   1.59672241e+02]\n",
        " [  8.00000000e+00   2.74133362e+02]\n",
        " [  7.00000000e+00   2.74133362e+02]\n",
        " [  7.00000000e+00   3.64127930e+02]\n",
        " [  7.00000000e+00   3.64127930e+02]\n",
        " [  1.90000000e+01   1.65339828e+02]\n",
        " [  1.30000000e+01   3.90484734e+01]\n",
        " [  1.20000000e+01   3.90484734e+01]\n",
        " [  1.60000000e+01   9.60361633e+01]\n",
        " [  1.60000000e+01   9.60361633e+01]\n",
        " [  1.70000000e+01   2.21746262e+02]\n",
        " [  3.00000000e+00   2.07816055e+02]\n",
        " [  1.90000000e+01   1.18082642e+02]\n",
        " [  1.80000000e+01   1.18082642e+02]\n",
        " [  6.00000000e+00   1.59672241e+02]\n",
        " [  4.00000000e+00   6.94064819e+02]\n",
        " [  2.30000000e+01   4.67243835e+02]\n",
        " [  3.20000000e+01   2.93968353e+02]\n",
        " [  2.30000000e+01   4.20170868e+02]\n",
        " [  2.30000000e+01   4.20170868e+02]\n",
        " [  2.30000000e+01   4.19127747e+02]\n",
        " [  2.30000000e+01   3.39029175e+02]\n",
        " [  1.30000000e+01   5.36460999e+02]\n",
        " [  3.00000000e+01   2.89813843e+02]\n",
        " [  2.90000000e+01   2.89813843e+02]\n",
        " [  6.00000000e+01   6.67565979e+02]\n",
        " [  2.30000000e+01   2.93968353e+02]\n",
        " [  5.90000000e+01   4.68056305e+02]\n",
        " [  2.90000000e+01   4.83762848e+02]\n",
        " [  4.30000000e+01   4.80316833e+02]\n",
        " [  5.40000000e+01   4.95693115e+02]\n",
        " [  4.00000000e+01   4.33662964e+02]\n",
        " [  2.90000000e+01   5.24730957e+02]\n",
        " [  2.90000000e+01   5.24730957e+02]\n",
        " [  4.10000000e+01   4.32723969e+02]\n",
        " [  4.00000000e+01   4.32723969e+02]\n",
        " [  4.00000000e+01   4.82776367e+02]\n",
        " [  3.50000000e+01   4.80316833e+02]\n",
        " [  6.30000000e+01   3.68999908e+02]\n",
        " [  4.00000000e+01   4.33788116e+02]\n",
        " [  5.30000000e+01   4.64748657e+02]\n",
        " [  5.50000000e+01   3.21863495e+02]\n",
        " [  5.90000000e+01   4.35895172e+02]\n",
        " [  5.90000000e+01   4.35895172e+02]\n",
        " [  5.90000000e+01   4.35895172e+02]\n",
        " [  5.20000000e+01   1.58482712e+02]\n",
        " [  5.80000000e+01   1.47058304e+02]\n",
        " [  4.60000000e+01   4.64748657e+02]\n",
        " [  3.60000000e+01   4.95693115e+02]\n",
        " [  4.70000000e+01   3.21863495e+02]\n",
        " [  4.70000000e+01   4.52864288e+02]\n",
        " [  5.20000000e+01   2.43562515e+02]\n",
        " [  5.20000000e+01   1.47058304e+02]\n",
        " [  5.00000000e+01   4.35895172e+02]\n",
        " [  6.80000000e+01   2.49834457e+02]\n",
        " [  6.80000000e+01   2.48818558e+02]\n",
        " [  6.30000000e+01   2.23999908e+02]\n",
        " [  6.20000000e+01   2.23999908e+02]\n",
        " [  6.20000000e+01   3.40999084e+02]\n",
        " [  6.20000000e+01   3.40999084e+02]\n",
        " [  6.20000000e+01   3.40999084e+02]\n",
        " [  4.60000000e+01   4.95036743e+02]\n",
        " [  6.90000000e+01   2.48493881e+02]\n",
        " [  6.80000000e+01   2.48493881e+02]\n",
        " [  6.80000000e+01   2.48493881e+02]\n",
        " [  6.80000000e+01   2.48493881e+02]\n",
        " [  6.80000000e+01   2.48493881e+02]\n",
        " [  7.80000000e+01   2.08009613e+02]\n",
        " [  5.40000000e+01   6.08062012e+02]\n",
        " [  8.60000000e+01   4.32128357e+02]\n",
        " [  8.10000000e+01   6.62039337e+01]\n",
        " [  7.60000000e+01   1.13263557e+02]\n",
        " [  7.30000000e+01   2.57714691e+02]\n",
        " [  7.60000000e+01   8.52363815e+01]\n",
        " [  7.60000000e+01   1.25203911e+02]\n",
        " [  7.60000000e+01   6.62039337e+01]\n",
        " [  7.60000000e+01   3.82470520e+02]\n",
        " [  7.80000000e+01   3.55684631e+02]\n",
        " [  1.18000000e+02   7.40409851e+02]\n",
        " [  9.30000000e+01   1.83317719e+02]\n",
        " [  8.70000000e+01   1.25851994e+01]\n",
        " [  8.80000000e+01   1.82918945e+02]\n",
        " [  8.90000000e+01   6.85843353e+01]\n",
        " [  9.40000000e+01   1.43507751e+02]\n",
        " [  9.30000000e+01   3.34172485e+02]\n",
        " [  9.70000000e+01   1.79388519e+02]\n",
        " [  9.50000000e+01   5.48038757e+02]\n",
        " [  8.90000000e+01   3.20266357e+02]\n",
        " [  8.80000000e+01   1.42524551e+02]\n",
        " [  8.80000000e+01   1.42524551e+02]\n",
        " [  9.70000000e+01   1.68097900e+02]\n",
        " [  1.12000000e+02   2.42873138e+02]\n",
        " [  1.12000000e+02   1.66816513e+02]\n",
        " [  1.12000000e+02   1.66816513e+02]\n",
        " [  1.12000000e+02   1.66816513e+02]\n",
        " [  1.12000000e+02   1.66816513e+02]\n",
        " [  1.12000000e+02   1.66816513e+02]\n",
        " [  1.45000000e+02   4.93977509e+02]\n",
        " [  1.10000000e+02   2.17134140e+02]\n",
        " [  1.10000000e+02   2.17134140e+02]\n",
        " [  1.08000000e+02   2.17128082e+02]\n",
        " [  1.08000000e+02   2.17128082e+02]\n",
        " [  1.09000000e+02   2.16128082e+02]\n",
        " [  1.08000000e+02   2.16128082e+02]\n",
        " [  1.08000000e+02   2.16128082e+02]\n",
        " [  1.12000000e+02   3.49870224e+01]\n",
        " [  1.16000000e+02   2.78787880e+01]\n",
        " [  1.19000000e+02   1.59656891e+02]\n",
        " [  1.38000000e+02   7.05224182e+02]\n",
        " [  1.49000000e+02   3.59958405e+02]\n",
        " [  1.12000000e+02   2.78787880e+01]\n",
        " [  1.45000000e+02   3.95972443e+02]\n",
        " [  1.52000000e+02   4.80287537e+02]\n",
        " [  1.13000000e+02   1.59656891e+02]\n",
        " [  1.12000000e+02   1.27047920e+02]\n",
        " [  1.12000000e+02   1.27047920e+02]\n",
        " [  1.50000000e+02   5.78657104e+02]\n",
        " [  1.44000000e+02   3.53439941e+02]\n",
        " [  1.44000000e+02   3.53439941e+02]\n",
        " [  1.44000000e+02   3.53439941e+02]\n",
        " [  1.44000000e+02   3.53439941e+02]\n",
        " [  1.44000000e+02   3.53439941e+02]\n",
        " [  1.44000000e+02   3.53439941e+02]\n",
        " [  1.44000000e+02   3.53439941e+02]\n",
        " [  1.44000000e+02   3.53439941e+02]\n",
        " [  1.44000000e+02   3.53439941e+02]\n",
        " [  1.44000000e+02   3.53439941e+02]\n",
        " [  1.44000000e+02   3.52439941e+02]\n",
        " [  1.44000000e+02   3.52439941e+02]\n",
        " [  1.44000000e+02   3.52439941e+02]\n",
        " [  1.44000000e+02   3.52439941e+02]\n",
        " [  1.44000000e+02   3.52439941e+02]\n",
        " [  1.39000000e+02   3.55996490e+02]\n",
        " [  1.52000000e+02   4.01872833e+02]\n",
        " [  1.45000000e+02   1.98797455e+02]\n",
        " [  1.46000000e+02   1.81894684e+02]\n",
        " [  1.46000000e+02   1.80895462e+02]\n",
        " [  1.58000000e+02   6.94266357e+01]\n",
        " [  1.51000000e+02   2.05702209e+02]\n",
        " [  1.40000000e+02   1.98797455e+02]\n",
        " [  1.57000000e+02   1.67640732e+02]\n",
        " [  1.48000000e+02   9.44999008e+01]\n",
        " [  1.64000000e+02   1.25925583e+02]\n",
        " [  1.50000000e+02   1.76219635e+02]\n",
        " [  1.49000000e+02   1.76219635e+02]\n",
        " [  1.44000000e+02   2.05702209e+02]\n",
        " [  1.54000000e+02   2.97997711e+02]\n",
        " [  1.54000000e+02   1.77999374e+02]\n",
        " [  1.53000000e+02   1.77999374e+02]\n",
        " [  1.54000000e+02   5.26998657e+02]\n",
        " [  1.46000000e+02   3.21167511e+02]\n",
        " [  1.46000000e+02   1.67640732e+02]\n",
        " [  1.43000000e+02   6.94266357e+01]\n",
        " [  1.43000000e+02   1.29428131e+02]\n",
        " [  1.43000000e+02   1.29428131e+02]\n",
        " [  1.43000000e+02   1.29428131e+02]\n",
        " [  1.43000000e+02   1.29428131e+02]\n",
        " [  1.43000000e+02   1.29428131e+02]\n",
        " [  1.67000000e+02   4.18544067e+02]\n",
        " [  1.46000000e+02   3.02059937e+02]\n",
        " [  1.46000000e+02   3.02059937e+02]\n",
        " [  1.70000000e+02   1.68065659e+02]\n",
        " [  1.69000000e+02   4.25966431e+02]\n",
        " [  1.82000000e+02   7.79661255e+02]\n",
        " [  1.75000000e+02   1.46756042e+02]\n",
        " [  1.72000000e+02   8.68908615e+01]\n",
        " [  1.71000000e+02   8.68908615e+01]\n",
        " [  1.72000000e+02   1.48874344e+02]\n",
        " [  1.88000000e+02   3.24699951e+02]\n",
        " [  1.70000000e+02   1.46756042e+02]\n",
        " [  1.70000000e+02   1.55751907e+02]\n",
        " [  1.70000000e+02   1.55751907e+02]\n",
        " [  1.79000000e+02   2.86717499e+02]\n",
        " [  1.81000000e+02   2.52894363e+02]\n",
        " [  1.70000000e+02   2.48331924e+02]\n",
        " [  1.84000000e+02   3.25871613e+02]\n",
        " [  1.87000000e+02   4.40486389e+02]\n",
        " [  1.89000000e+02   1.20771858e+02]\n",
        " [  1.81000000e+02   3.25871613e+02]\n",
        " [  1.88000000e+02   3.06157867e+02]\n",
        " [  1.88000000e+02   3.06157867e+02]\n",
        " [  1.82000000e+02   4.40486389e+02]\n",
        " [  1.86000000e+02   4.25772034e+02]\n",
        " [  1.83000000e+02   1.20771858e+02]\n",
        " [  2.33000000e+02   2.41120010e+02]\n",
        " [  1.94000000e+02   8.46552048e+01]\n",
        " [  1.94000000e+02   8.46552048e+01]\n",
        " [  2.45000000e+02   7.44146606e+02]\n",
        " [  1.92000000e+02   8.46552048e+01]\n",
        " [  1.90000000e+02   3.70487793e+02]\n",
        " [  2.38000000e+02   4.58383728e+02]\n",
        " [  1.90000000e+02   2.41120773e+02]\n",
        " [  1.90000000e+02   2.41120773e+02]\n",
        " [  1.90000000e+02   2.41120773e+02]\n",
        " [  1.90000000e+02   2.41120773e+02]\n",
        " [  1.90000000e+02   2.41120773e+02]\n",
        " [  1.90000000e+02   2.41120773e+02]\n",
        " [  1.90000000e+02   2.41120773e+02]\n",
        " [  1.90000000e+02   2.41120773e+02]\n",
        " [  1.90000000e+02   2.41120773e+02]\n",
        " [  1.90000000e+02   2.41120773e+02]\n",
        " [  1.90000000e+02   2.41120773e+02]\n",
        " [  1.90000000e+02   2.41120773e+02]\n",
        " [  1.90000000e+02   2.41120773e+02]\n",
        " [  1.90000000e+02   2.41120773e+02]\n",
        " [  1.90000000e+02   2.41120773e+02]\n",
        " [  1.90000000e+02   2.41120773e+02]\n",
        " [  1.90000000e+02   2.41120773e+02]\n",
        " [  1.90000000e+02   2.41120773e+02]\n",
        " [  1.90000000e+02   2.41120773e+02]\n",
        " [  1.90000000e+02   2.41120773e+02]\n",
        " [  1.90000000e+02   2.41120773e+02]\n",
        " [  1.90000000e+02   2.41120773e+02]\n",
        " [  1.90000000e+02   2.41120773e+02]\n",
        " [  1.90000000e+02   2.41120773e+02]\n",
        " [  1.90000000e+02   2.41120773e+02]\n",
        " [  1.90000000e+02   2.41120773e+02]\n",
        " [  1.90000000e+02   2.41120773e+02]\n",
        " [  1.90000000e+02   2.41120773e+02]\n",
        " [  2.26000000e+02   4.23377411e+02]\n",
        " [  2.25000000e+02   4.23377411e+02]\n",
        " [  2.25000000e+02   4.23377411e+02]\n",
        " [  2.25000000e+02   4.23377411e+02]\n",
        " [  2.25000000e+02   4.23377411e+02]\n",
        " [  2.25000000e+02   4.23377411e+02]\n",
        " [  2.25000000e+02   4.23377411e+02]\n",
        " [  2.25000000e+02   4.23377411e+02]\n",
        " [  2.25000000e+02   4.23377411e+02]\n",
        " [  2.38000000e+02   1.44424164e+02]\n",
        " [  2.39000000e+02   4.70495880e+02]\n",
        " [  2.41000000e+02   2.70003510e+02]\n",
        " [  2.44000000e+02   2.65996826e+02]\n",
        " [  2.34000000e+02   1.44424164e+02]\n",
        " [  2.35000000e+02   4.70495880e+02]\n",
        " [  2.48000000e+02   4.84464844e+02]\n",
        " [  2.36000000e+02   2.70003510e+02]\n",
        " [  2.52000000e+02   2.68641357e+02]\n",
        " [  2.36000000e+02   3.39760437e+02]\n",
        " [  2.46000000e+02   1.61735336e+02]\n",
        " [  2.41000000e+02   3.19853882e+02]\n",
        " [  2.47000000e+02   1.99999943e+01]\n",
        " [  2.46000000e+02   1.99999943e+01]\n",
        " [  2.49000000e+02   1.84906235e+01]\n",
        " [  2.48000000e+02   1.84906235e+01]\n",
        " [  2.51000000e+02   1.22533524e+02]\n",
        " [  2.50000000e+02   1.22533524e+02]\n",
        " [  2.54000000e+02   4.88575439e+02]\n",
        " [  2.54000000e+02   4.88575439e+02]\n",
        " [  2.53000000e+02   4.88575439e+02]\n",
        " [  2.54000000e+02   4.89575439e+02]\n",
        " [  2.36000000e+02   3.59163086e+02]\n",
        " [  2.56000000e+02   3.80551758e+02]\n",
        " [  2.84000000e+02   5.40476257e+02]\n",
        " [  2.46000000e+02   3.85056763e+02]\n",
        " [  2.66000000e+02   6.13221550e+01]\n",
        " [  2.46000000e+02   4.14995331e+02]\n",
        " [  2.63000000e+02   1.50121140e+02]\n",
        " [  2.62000000e+02   1.50121140e+02]\n",
        " [  2.62000000e+02   1.50121140e+02]\n",
        " [  2.66000000e+02   1.39028387e+01]\n",
        " [  2.65000000e+02   1.39028387e+01]\n",
        " [  2.70000000e+02   1.29024338e+02]\n",
        " [  2.66000000e+02   7.00638733e+01]\n",
        " [  2.66000000e+02   7.00638733e+01]\n",
        " [  2.66000000e+02   7.00638733e+01]\n",
        " [  2.66000000e+02   8.61953506e+01]\n",
        " [  2.66000000e+02   8.61953506e+01]\n",
        " [  2.64000000e+02   2.67861633e+02]\n",
        " [  2.75000000e+02   5.10914087e-01]\n",
        " [  2.74000000e+02   1.50849686e+02]\n",
        " [  2.80000000e+02   1.69186447e+02]\n",
        " [  2.80000000e+02   1.69186447e+02]\n",
        " [  2.84000000e+02   6.33134949e+02]\n",
        " [  2.80000000e+02   7.92595749e+01]\n",
        " [  2.79000000e+02   7.92595749e+01]\n",
        " [  2.82000000e+02   1.71332204e+00]\n",
        " [  2.81000000e+02   1.71332204e+00]\n",
        " [  2.80000000e+02   8.72866943e+02]\n",
        " [  2.86000000e+02   4.01759491e+02]\n",
        " [  2.86000000e+02   3.73098816e+02]\n",
        " [  2.85000000e+02   3.73098816e+02]]\n"
       ]
      }
     ],
     "prompt_number": 151
    },
    {
     "cell_type": "code",
     "collapsed": false,
     "input": [
      "nearest = ntw.allneighbordistances('crimes')"
     ],
     "language": "python",
     "metadata": {},
     "outputs": [],
     "prompt_number": 152
    },
    {
     "cell_type": "markdown",
     "metadata": {},
     "source": [
      "###K-function"
     ]
    },
    {
     "cell_type": "code",
     "collapsed": false,
     "input": [],
     "language": "python",
     "metadata": {},
     "outputs": [
      {
       "output_type": "stream",
       "stream": "stdout",
       "text": [
        "230 230\n"
       ]
      }
     ],
     "prompt_number": 82
    },
    {
     "cell_type": "markdown",
     "metadata": {},
     "source": [
      "#### Create a nearest neight matrix using the schools point pattern as the source, and the crimes as the destination"
     ]
    },
    {
     "cell_type": "code",
     "collapsed": false,
     "input": [
      "nearest = ntw.nearestneighbordistances('crimes', 'schools')\n",
      "nearest[:10]"
     ],
     "language": "python",
     "metadata": {},
     "outputs": [
      {
       "ename": "KeyError",
       "evalue": "122",
       "output_type": "pyerr",
       "traceback": [
        "\u001b[0;31m---------------------------------------------------------------------------\u001b[0m\n\u001b[0;31mKeyError\u001b[0m                                  Traceback (most recent call last)",
        "\u001b[0;32m<ipython-input-65-347210bdab3f>\u001b[0m in \u001b[0;36m<module>\u001b[0;34m()\u001b[0m\n\u001b[0;32m----> 1\u001b[0;31m \u001b[0mnearest\u001b[0m \u001b[0;34m=\u001b[0m \u001b[0mntw\u001b[0m\u001b[0;34m.\u001b[0m\u001b[0mnearestneighbordistances\u001b[0m\u001b[0;34m(\u001b[0m\u001b[0;34m'crimes'\u001b[0m\u001b[0;34m,\u001b[0m \u001b[0;34m'schools'\u001b[0m\u001b[0;34m)\u001b[0m\u001b[0;34m\u001b[0m\u001b[0m\n\u001b[0m\u001b[1;32m      2\u001b[0m \u001b[0mnearest\u001b[0m\u001b[0;34m[\u001b[0m\u001b[0;34m:\u001b[0m\u001b[0;36m10\u001b[0m\u001b[0;34m]\u001b[0m\u001b[0;34m\u001b[0m\u001b[0m\n",
        "\u001b[0;32m/home/jlaura/github/network/network.py\u001b[0m in \u001b[0;36mnearestneighbordistances\u001b[0;34m(self, sourcepattern, destpattern)\u001b[0m\n\u001b[1;32m    527\u001b[0m                 \u001b[0mddist1\u001b[0m\u001b[0;34m,\u001b[0m \u001b[0mddist2\u001b[0m \u001b[0;34m=\u001b[0m \u001b[0mdist_to_node\u001b[0m\u001b[0;34m[\u001b[0m\u001b[0mp2\u001b[0m\u001b[0;34m]\u001b[0m\u001b[0;34m.\u001b[0m\u001b[0mvalues\u001b[0m\u001b[0;34m(\u001b[0m\u001b[0;34m)\u001b[0m\u001b[0;34m\u001b[0m\u001b[0m\n\u001b[1;32m    528\u001b[0m \u001b[0;34m\u001b[0m\u001b[0m\n\u001b[0;32m--> 529\u001b[0;31m                 \u001b[0msource1_to_dest1\u001b[0m \u001b[0;34m=\u001b[0m \u001b[0msdist1\u001b[0m \u001b[0;34m+\u001b[0m \u001b[0mself\u001b[0m\u001b[0;34m.\u001b[0m\u001b[0malldistances\u001b[0m\u001b[0;34m[\u001b[0m\u001b[0msource1\u001b[0m\u001b[0;34m]\u001b[0m\u001b[0;34m[\u001b[0m\u001b[0;36m0\u001b[0m\u001b[0;34m]\u001b[0m\u001b[0;34m[\u001b[0m\u001b[0mdest1\u001b[0m\u001b[0;34m]\u001b[0m \u001b[0;34m+\u001b[0m \u001b[0mddist1\u001b[0m\u001b[0;34m\u001b[0m\u001b[0m\n\u001b[0m\u001b[1;32m    530\u001b[0m                 \u001b[0msource1_to_dest2\u001b[0m \u001b[0;34m=\u001b[0m \u001b[0msdist1\u001b[0m \u001b[0;34m+\u001b[0m \u001b[0mself\u001b[0m\u001b[0;34m.\u001b[0m\u001b[0malldistances\u001b[0m\u001b[0;34m[\u001b[0m\u001b[0msource1\u001b[0m\u001b[0;34m]\u001b[0m\u001b[0;34m[\u001b[0m\u001b[0;36m0\u001b[0m\u001b[0;34m]\u001b[0m\u001b[0;34m[\u001b[0m\u001b[0mdest2\u001b[0m\u001b[0;34m]\u001b[0m \u001b[0;34m+\u001b[0m \u001b[0mddist2\u001b[0m\u001b[0;34m\u001b[0m\u001b[0m\n\u001b[1;32m    531\u001b[0m                 \u001b[0msource2_to_dest1\u001b[0m \u001b[0;34m=\u001b[0m \u001b[0msdist2\u001b[0m \u001b[0;34m+\u001b[0m \u001b[0mself\u001b[0m\u001b[0;34m.\u001b[0m\u001b[0malldistances\u001b[0m\u001b[0;34m[\u001b[0m\u001b[0msource2\u001b[0m\u001b[0;34m]\u001b[0m\u001b[0;34m[\u001b[0m\u001b[0;36m0\u001b[0m\u001b[0;34m]\u001b[0m\u001b[0;34m[\u001b[0m\u001b[0mdest1\u001b[0m\u001b[0;34m]\u001b[0m \u001b[0;34m+\u001b[0m \u001b[0mddist1\u001b[0m\u001b[0;34m\u001b[0m\u001b[0m\n",
        "\u001b[0;31mKeyError\u001b[0m: 122"
       ]
      }
     ],
     "prompt_number": 65
    },
    {
     "cell_type": "code",
     "collapsed": false,
     "input": [
      "figsize(20,30)\n",
      "npts = nearest.shape[0]\n",
      "\n",
      "#In the planar case lambda would be n / Area, we do not have area, but we have length.\n",
      "lam = npts / np.sum(np.array(ntw.edge_lengths.values()))\n",
      "\n",
      "#We can set the maximum of the step to be (a) the maximum of the observered pattern\n",
      "# (b) the maximum of the network length assuming all edges are traversed\n",
      "# (c) some other value bewteen these\n",
      "\n",
      "maxdist = np.max(nearest) #Observed max\n",
      "steps = np.linspace(0, maxdist, 5000)\n",
      "obs_k = np.empty(len(steps))\n",
      "for i, s in enumerate(steps):\n",
      "    obs_k[i] = len(nearest[nearest < s])\n",
      "    \n",
      "obs_k *= (lam ** -1)\n",
      "\n",
      "%pylab inline\n",
      "plot(steps, obs_k)\n"
     ],
     "language": "python",
     "metadata": {},
     "outputs": [
      {
       "output_type": "stream",
       "stream": "stdout",
       "text": [
        "Populating the interactive namespace from numpy and matplotlib\n"
       ]
      },
      {
       "metadata": {},
       "output_type": "pyout",
       "prompt_number": 180,
       "text": [
        "[<matplotlib.lines.Line2D at 0x10a0664d0>]"
       ]
      },
      {
       "metadata": {},
       "output_type": "display_data",
       "png": "[encoded data removed]",
       "text": [
        "<matplotlib.figure.Figure at 0x10a6b0950>"
       ]
      }
     ],
     "prompt_number": 180
    },
    {
     "cell_type": "code",
     "collapsed": false,
     "input": [],
     "language": "python",
     "metadata": {},
     "outputs": [
      {
       "output_type": "stream",
       "stream": "stdout",
       "text": [
        "Populating the interactive namespace from numpy and matplotlib\n"
       ]
      },
      {
       "metadata": {},
       "output_type": "pyout",
       "prompt_number": 166,
       "text": [
        "[<matplotlib.lines.Line2D at 0x1091accd0>]"
       ]
      },
      {
       "metadata": {},
       "output_type": "display_data",
       "png": "[encoded data removed]",
       "text": [
        "<matplotlib.figure.Figure at 0x108dca5d0>"
       ]
      }
     ],
     "prompt_number": 166
    },
    {
     "cell_type": "code",
     "collapsed": false,
     "input": [
      "def dijkstra(ntw, cost, node, n=float('inf')):\n",
      "    \"\"\"\n",
      "    Compute the shortest path between a start node and\n",
      "        all other nodes in the wed.\n",
      "    Parameters\n",
      "    ----------\n",
      "    ntw: PySAL network object\n",
      "    cost: Cost per edge to travel, e.g. distance\n",
      "    node: Start node ID\n",
      "    n: integer break point to stop iteration and return n\n",
      "     neighbors\n",
      "    Returns:\n",
      "    distance: List of distances from node to all other nodes\n",
      "    pred : List of preceeding nodes for traversal route\n",
      "    \"\"\"\n",
      "\n",
      "    v0 = node\n",
      "    distance = [float('inf') for x in ntw.node_list]\n",
      "    idx = ntw.node_list.index(v0)\n",
      "    distance[ntw.node_list.index(v0)] = 0\n",
      "    pred = [-1 for x in ntw.node_list]\n",
      "    a = set()\n",
      "    a.add(v0)\n",
      "    while len(a) > 0:\n",
      "        #Get node with the lowest value from distance\n",
      "        dist = float('inf')\n",
      "        for node in a:\n",
      "            if distance[node] < dist:\n",
      "                dist = distance[node]\n",
      "                v = node\n",
      "        #Remove that node from the set\n",
      "        a.remove(v)\n",
      "        last = v\n",
      "        #4. Get the neighbors to the current node\n",
      "        neighbors = get_neighbor_distances(ntw, v, cost)\n",
      "        for v1, indiv_cost in neighbors.iteritems():\n",
      "            if distance[v1] > distance[v] + indiv_cost:\n",
      "                distance[v1] = distance[v] + indiv_cost\n",
      "                pred[v1] = v\n",
      "                a.add(v1)\n",
      "    return distance, np.array(pred, dtype=np.int)"
     ],
     "language": "python",
     "metadata": {},
     "outputs": []
    },
    {
     "cell_type": "code",
     "collapsed": false,
     "input": [
      "def multisource_djikstra(ntw, cost, generatornodes):\n",
      "    V = ntw.nodes.values()\n",
      "    nnetworknodes = len(V)\n",
      "    generatornodes = set([i + nnetworknodes for i in generatornodes.points.keys()])\n",
      "    nnodes = len(V) + len(generatornodes)\n",
      "        \n",
      "    #1.  dv = 0 for all v in generatornodes, tv = v for all v in generator nodes \n",
      "    distance = np.zeros(nnodes)\n",
      "    tv = np.zeros(nnodes)\n",
      "    for i in generatornodes:\n",
      "        tv[i] = i\n",
      "    #2.dv = inf for all v in V not also in P\n",
      "    distance[:nnetworknodes] = np.inf\n",
      "    #3. \n",
      "    a = set(generatornodes)\n",
      "    while len(a) > 0:\n",
      "        #Get node with the lowest value from distance\n",
      "        dist = float('inf')\n",
      "        for node in a:\n",
      "            if distance[node] < dist:\n",
      "                dist = distance[node]\n",
      "                v = node\n",
      "        #Remove that node from the set\n",
      "        a.remove(v)\n",
      "        last = v\n",
      "        edges = ntw.enum_links_node(v)\n",
      "        if len(edges) == 0:\n",
      "            \n",
      "        print edges\n",
      "        break\n",
      "    \n",
      "    \n",
      "    \n",
      "    \n",
      "    "
     ],
     "language": "python",
     "metadata": {},
     "outputs": [],
     "prompt_number": 77
    },
    {
     "cell_type": "code",
     "collapsed": false,
     "input": [
      "multisource_djikstra(ntw, ntw.edge_lengths, ntw.pointpatterns['crimes'])"
     ],
     "language": "python",
     "metadata": {},
     "outputs": [
      {
       "output_type": "stream",
       "stream": "stdout",
       "text": [
        "[]\n"
       ]
      }
     ],
     "prompt_number": 78
    },
    {
     "cell_type": "code",
     "collapsed": false,
     "input": [],
     "language": "python",
     "metadata": {},
     "outputs": [],
     "prompt_number": 22
    },
    {
     "cell_type": "code",
     "collapsed": false,
     "input": [],
     "language": "python",
     "metadata": {},
     "outputs": []
    },
    {
     "cell_type": "code",
     "collapsed": false,
     "input": [],
     "language": "python",
     "metadata": {},
     "outputs": []
    }
   ],
   "metadata": {}
  }
 ]
}