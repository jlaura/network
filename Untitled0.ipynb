{
 "metadata": {
  "name": "",
  "signature": "sha256:73b2c12054c056bfef438cbf117e6240947401dc3b37942de1e8214a81ad4cbb"
 },
 "nbformat": 3,
 "nbformat_minor": 0,
 "worksheets": [
  {
   "cells": [
    {
     "cell_type": "code",
     "collapsed": false,
     "input": [
      "import numpy as np\n",
      "import pysal as ps\n",
      "try:\n",
      "    reload(network)\n",
      "except:\n",
      "    import network"
     ],
     "language": "python",
     "metadata": {},
     "outputs": [],
     "prompt_number": 1
    },
    {
     "cell_type": "code",
     "collapsed": false,
     "input": [
      "ntw = network.Network('geodanet/streets.shp')\n",
      "\n",
      "#Snap a point pattern to the network\n",
      "ntw.snapobservations('geodanet/crimes.shp', 'crimes', attribute=True)\n",
      "ntw.snapobservations('geodanet/schools.shp', 'schools', attribute=False)"
     ],
     "language": "python",
     "metadata": {},
     "outputs": [],
     "prompt_number": 2
    },
    {
     "cell_type": "markdown",
     "metadata": {},
     "source": [
      "####A network is composed of a single topological representation of a road and $n$ point patterns which are snapped to the network."
     ]
    },
    {
     "cell_type": "code",
     "collapsed": false,
     "input": [
      "ntw.pointpatterns"
     ],
     "language": "python",
     "metadata": {},
     "outputs": [
      {
       "metadata": {},
       "output_type": "pyout",
       "prompt_number": 3,
       "text": [
        "{'crimes': <network.PointPattern instance at 0x103397c20>,\n",
        " 'schools': <network.PointPattern instance at 0x105a19680>}"
       ]
      }
     ],
     "prompt_number": 3
    },
    {
     "cell_type": "code",
     "collapsed": false,
     "input": [
      "dir(ntw.pointpatterns['crimes'])"
     ],
     "language": "python",
     "metadata": {},
     "outputs": [
      {
       "metadata": {},
       "output_type": "pyout",
       "prompt_number": 4,
       "text": [
        "['__doc__',\n",
        " '__init__',\n",
        " '__module__',\n",
        " 'dist_to_node',\n",
        " 'npoints',\n",
        " 'obs_to_edge',\n",
        " 'obs_to_node',\n",
        " 'points',\n",
        " 'snapped_coordinates']"
       ]
      }
     ],
     "prompt_number": 4
    },
    {
     "cell_type": "markdown",
     "metadata": {},
     "source": [
      "#####Attributes for every point pattern\n",
      "\n",
      "1. dist_to_node dict keyed by pointid with the value being a dict in the form {node: distance to node, node: distance to node}\n",
      "2. obs_to_edge dict keyed by edge with the value being a dict in the form {pointID:(x-coord, y-coord), pointID:(x-coord, y-coord), ... }\n",
      "3. obs_to_node\n",
      "4. points geojson like representation of the point pattern.  Includes properties if read with attributes=True\n",
      "5. snapped_coordinates dict keyed by pointid with the value being (x-coord, y-coord)"
     ]
    },
    {
     "cell_type": "markdown",
     "metadata": {},
     "source": [
      "####Counts per edge are important, but should not be precomputed since we have different representations of the network (digitized and graph currently).  (Relatively) Uniform segmentation still needs to be done."
     ]
    },
    {
     "cell_type": "code",
     "collapsed": false,
     "input": [
      "counts = ntw.count_per_edge(ntw.pointpatterns['crimes'].obs_to_edge, graph=False)"
     ],
     "language": "python",
     "metadata": {},
     "outputs": [],
     "prompt_number": 99
    },
    {
     "cell_type": "markdown",
     "metadata": {},
     "source": [
      "#####Moran's I using the digitized network"
     ]
    },
    {
     "cell_type": "code",
     "collapsed": false,
     "input": [
      "#Binary Adjacency\n",
      "ntw.contiguityweights(graph=False)\n",
      "\n",
      "#Build the y vector\n",
      "edges = ntw.w.neighbors.keys()\n",
      "y = np.zeros(len(edges))\n",
      "for i, e in enumerate(edges):\n",
      "    if e in counts.keys():\n",
      "        y[i] = counts[e]\n",
      "\n",
      "#Moran's I\n",
      "res = ps.esda.moran.Moran(y, ntw.w, permutations=99)\n",
      "print dir(res)"
     ],
     "language": "python",
     "metadata": {},
     "outputs": [
      {
       "output_type": "stream",
       "stream": "stdout",
       "text": [
        "['EI', 'EI_sim', 'I', 'VI_norm', 'VI_rand', 'VI_sim', '_Moran__calc', '_Moran__moments', '__doc__', '__init__', '__module__', 'n', 'p_norm', 'p_rand', 'p_sim', 'p_z_sim', 'permutations', 'seI_norm', 'seI_rand', 'seI_sim', 'sim', 'w', 'y', 'z', 'z2ss', 'z_norm', 'z_rand', 'z_sim']\n"
       ]
      }
     ],
     "prompt_number": 100
    },
    {
     "cell_type": "markdown",
     "metadata": {},
     "source": [
      "####Moran's I using the graph representation to generate the W\n",
      "\n",
      "Note that we have to regenerate the counts per edge, since the graph will have less edges."
     ]
    },
    {
     "cell_type": "code",
     "collapsed": false,
     "input": [
      "counts = ntw.count_per_edge(ntw.pointpatterns['crimes'].obs_to_edge, graph=True)\n",
      "\n",
      "#Binary Adjacency\n",
      "ntw.contiguityweights(graph=True)\n",
      "\n",
      "#Build the y vector\n",
      "edges = ntw.w.neighbors.keys()\n",
      "y = np.zeros(len(edges))\n",
      "for i, e in enumerate(edges):\n",
      "    if e in counts.keys():\n",
      "        y[i] = counts[e]\n",
      "\n",
      "#Moran's I\n",
      "res = ps.esda.moran.Moran(y, ntw.w, permutations=99)\n",
      "print dir(res)"
     ],
     "language": "python",
     "metadata": {},
     "outputs": [
      {
       "output_type": "stream",
       "stream": "stdout",
       "text": [
        "['EI', 'EI_sim', 'I', 'VI_norm', 'VI_rand', 'VI_sim', '_Moran__calc', '_Moran__moments', '__doc__', '__init__', '__module__', 'n', 'p_norm', 'p_rand', 'p_sim', 'p_z_sim', 'permutations', 'seI_norm', 'seI_rand', 'seI_sim', 'sim', 'w', 'y', 'z', 'z2ss', 'z_norm', 'z_rand', 'z_sim']\n"
       ]
      }
     ],
     "prompt_number": 101
    },
    {
     "cell_type": "markdown",
     "metadata": {},
     "source": [
      "####Simulate a point pattern on the network\n",
      "\n",
      "Need to supply a count of the number of points and a distirbution (default is uniform).  Generally this will not be called by the user, since the simulation will be used for Monte Carlo permutation."
     ]
    },
    {
     "cell_type": "code",
     "collapsed": false,
     "input": [
      "npts = ntw.pointpatterns['crimes'].npoints\n",
      "sim = ntw.simulate_observations(npts)"
     ],
     "language": "python",
     "metadata": {},
     "outputs": [],
     "prompt_number": 108
    },
    {
     "cell_type": "markdown",
     "metadata": {},
     "source": [
      "####Create a nearest neighbor matrix using the crimes point pattern"
     ]
    },
    {
     "cell_type": "code",
     "collapsed": false,
     "input": [
      "nearest = ntw.nearestneighbordistances('crimes')\n",
      "nearest[:10]"
     ],
     "language": "python",
     "metadata": {},
     "outputs": [
      {
       "metadata": {},
       "output_type": "pyout",
       "prompt_number": 7,
       "text": [
        "array([[  15.        ,  449.93911743],\n",
        "       [  19.        ,   78.1735611 ],\n",
        "       [   5.        ,   59.1481514 ],\n",
        "       [  15.        ,  350.92202759],\n",
        "       [   5.        ,  192.97348022],\n",
        "       [   5.        ,  128.0333252 ],\n",
        "       [   6.        ,   37.39252472],\n",
        "       [   7.        ,  137.06668091],\n",
        "       [   7.        ,  137.06668091],\n",
        "       [   7.        ,  227.06126404]], dtype=float32)"
       ]
      }
     ],
     "prompt_number": 7
    },
    {
     "cell_type": "markdown",
     "metadata": {},
     "source": [
      "#### Create a nearest neight matrix using the schools point pattern as the source, and the crimes as the destination"
     ]
    },
    {
     "cell_type": "code",
     "collapsed": false,
     "input": [
      "nearest = ntw.nearestneighbordistances('crimes', 'schools')\n",
      "nearest[:10]"
     ],
     "language": "python",
     "metadata": {},
     "outputs": [
      {
       "metadata": {},
       "output_type": "pyout",
       "prompt_number": 8,
       "text": [
        "array([[  2.00000000e+00,   5.35779834e+03],\n",
        "       [  2.00000000e+00,   1.12403877e+04],\n",
        "       [  2.00000000e+00,   2.35886157e+03],\n",
        "       [  2.00000000e+00,   7.45948291e+03],\n",
        "       [  2.00000000e+00,   2.49268701e+03],\n",
        "       [  2.00000000e+00,   1.06799243e+03],\n",
        "       [  2.00000000e+00,   6.04664062e+03],\n",
        "       [  2.00000000e+00,   1.73286194e+03],\n",
        "       [  2.00000000e+00,   1.73286194e+03],\n",
        "       [  2.00000000e+00,   1.64286731e+03]], dtype=float32)"
       ]
      }
     ],
     "prompt_number": 8
    },
    {
     "cell_type": "code",
     "collapsed": false,
     "input": [],
     "language": "python",
     "metadata": {},
     "outputs": []
    }
   ],
   "metadata": {}
  }
 ]
}