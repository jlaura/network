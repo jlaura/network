{
 "metadata": {
  "name": "",
  "signature": "sha256:3f53217add7431b8688b2071a8c898d98078fbcce75a80c29a3c0e6cb3312093"
 },
 "nbformat": 3,
 "nbformat_minor": 0,
 "worksheets": [
  {
   "cells": [
    {
     "cell_type": "code",
     "collapsed": false,
     "input": [
      "import numpy as np\n",
      "import pysal as ps\n",
      "try:\n",
      "    reload(network)\n",
      "except:\n",
      "    import network\n",
      "import util"
     ],
     "language": "python",
     "metadata": {},
     "outputs": [],
     "prompt_number": 76
    },
    {
     "cell_type": "code",
     "collapsed": false,
     "input": [
      "ntw = network.Network('geodanet/streets.shp')\n",
      "\n",
      "#Snap a point pattern to the network\n",
      "ntw.snapobservations('geodanet/crimes.shp', 'crimes', attribute=True)\n",
      "ntw.snapobservations('geodanet/schools.shp', 'schools', attribute=False)"
     ],
     "language": "python",
     "metadata": {},
     "outputs": [],
     "prompt_number": 2
    },
    {
     "cell_type": "markdown",
     "metadata": {},
     "source": [
      "####A network is composed of a single topological representation of a road and $n$ point patterns which are snapped to the network."
     ]
    },
    {
     "cell_type": "code",
     "collapsed": false,
     "input": [
      "ntw.pointpatterns"
     ],
     "language": "python",
     "metadata": {},
     "outputs": [
      {
       "metadata": {},
       "output_type": "pyout",
       "prompt_number": 3,
       "text": [
        "{'crimes': <network.PointPattern instance at 0x1059e1ea8>,\n",
        " 'schools': <network.PointPattern instance at 0x105ab90e0>}"
       ]
      }
     ],
     "prompt_number": 3
    },
    {
     "cell_type": "code",
     "collapsed": false,
     "input": [
      "dir(ntw.pointpatterns['crimes'])"
     ],
     "language": "python",
     "metadata": {},
     "outputs": [
      {
       "metadata": {},
       "output_type": "pyout",
       "prompt_number": 4,
       "text": [
        "['__doc__',\n",
        " '__init__',\n",
        " '__module__',\n",
        " 'dist_to_node',\n",
        " 'npoints',\n",
        " 'obs_to_edge',\n",
        " 'obs_to_node',\n",
        " 'points',\n",
        " 'snapped_coordinates']"
       ]
      }
     ],
     "prompt_number": 4
    },
    {
     "cell_type": "markdown",
     "metadata": {},
     "source": [
      "#####Attributes for every point pattern\n",
      "\n",
      "1. dist_to_node dict keyed by pointid with the value being a dict in the form {node: distance to node, node: distance to node}\n",
      "2. obs_to_edge dict keyed by edge with the value being a dict in the form {pointID:(x-coord, y-coord), pointID:(x-coord, y-coord), ... }\n",
      "3. obs_to_node\n",
      "4. points geojson like representation of the point pattern.  Includes properties if read with attributes=True\n",
      "5. snapped_coordinates dict keyed by pointid with the value being (x-coord, y-coord)"
     ]
    },
    {
     "cell_type": "markdown",
     "metadata": {},
     "source": [
      "####Counts per edge are important, but should not be precomputed since we have different representations of the network (digitized and graph currently).  (Relatively) Uniform segmentation still needs to be done."
     ]
    },
    {
     "cell_type": "code",
     "collapsed": false,
     "input": [
      "counts = ntw.count_per_edge(ntw.pointpatterns['crimes'].obs_to_edge, graph=False)\n",
      "counts"
     ],
     "language": "python",
     "metadata": {},
     "outputs": [
      {
       "metadata": {},
       "output_type": "pyout",
       "prompt_number": 6,
       "text": [
        "{(0, 2): 1,\n",
        " (1, 127): 3,\n",
        " (3, 10): 1,\n",
        " (3, 23): 1,\n",
        " (10, 11): 2,\n",
        " (10, 55): 1,\n",
        " (11, 12): 1,\n",
        " (12, 13): 4,\n",
        " (12, 179): 2,\n",
        " (14, 15): 8,\n",
        " (14, 139): 3,\n",
        " (14, 203): 2,\n",
        " (16, 138): 2,\n",
        " (17, 25): 3,\n",
        " (17, 41): 6,\n",
        " (18, 21): 1,\n",
        " (19, 20): 1,\n",
        " (19, 170): 1,\n",
        " (20, 22): 15,\n",
        " (20, 228): 1,\n",
        " (21, 114): 2,\n",
        " (24, 25): 4,\n",
        " (24, 26): 2,\n",
        " (26, 27): 1,\n",
        " (28, 29): 2,\n",
        " (29, 30): 7,\n",
        " (30, 31): 2,\n",
        " (31, 32): 2,\n",
        " (34, 35): 1,\n",
        " (36, 37): 2,\n",
        " (37, 38): 5,\n",
        " (39, 40): 1,\n",
        " (40, 41): 8,\n",
        " (42, 44): 1,\n",
        " (44, 166): 1,\n",
        " (46, 47): 1,\n",
        " (46, 221): 1,\n",
        " (50, 165): 4,\n",
        " (54, 66): 1,\n",
        " (56, 58): 2,\n",
        " (57, 69): 1,\n",
        " (57, 70): 1,\n",
        " (59, 94): 4,\n",
        " (59, 96): 1,\n",
        " (61, 62): 1,\n",
        " (62, 63): 1,\n",
        " (62, 174): 4,\n",
        " (63, 64): 1,\n",
        " (64, 65): 2,\n",
        " (64, 176): 1,\n",
        " (64, 188): 1,\n",
        " (69, 167): 1,\n",
        " (70, 71): 1,\n",
        " (70, 218): 1,\n",
        " (72, 221): 37,\n",
        " (73, 74): 2,\n",
        " (73, 220): 1,\n",
        " (75, 76): 1,\n",
        " (75, 97): 4,\n",
        " (77, 78): 1,\n",
        " (78, 211): 1,\n",
        " (79, 80): 1,\n",
        " (85, 98): 4,\n",
        " (86, 87): 1,\n",
        " (89, 182): 1,\n",
        " (92, 99): 1,\n",
        " (99, 100): 2,\n",
        " (102, 103): 1,\n",
        " (108, 160): 5,\n",
        " (109, 110): 2,\n",
        " (111, 112): 1,\n",
        " (115, 117): 6,\n",
        " (119, 229): 1,\n",
        " (122, 124): 1,\n",
        " (128, 129): 1,\n",
        " (128, 227): 1,\n",
        " (130, 131): 3,\n",
        " (130, 171): 5,\n",
        " (132, 134): 6,\n",
        " (134, 142): 1,\n",
        " (135, 143): 1,\n",
        " (137, 139): 7,\n",
        " (140, 142): 10,\n",
        " (141, 143): 1,\n",
        " (141, 196): 1,\n",
        " (143, 144): 2,\n",
        " (145, 146): 2,\n",
        " (146, 147): 2,\n",
        " (147, 148): 5,\n",
        " (147, 197): 5,\n",
        " (148, 149): 2,\n",
        " (151, 152): 1,\n",
        " (155, 156): 1,\n",
        " (156, 157): 1,\n",
        " (157, 158): 3,\n",
        " (158, 159): 1,\n",
        " (160, 161): 2,\n",
        " (161, 162): 1,\n",
        " (162, 163): 2,\n",
        " (163, 164): 1,\n",
        " (166, 200): 2,\n",
        " (181, 187): 2,\n",
        " (183, 184): 3,\n",
        " (189, 215): 2,\n",
        " (204, 219): 1,\n",
        " (207, 220): 3,\n",
        " (225, 226): 2}"
       ]
      }
     ],
     "prompt_number": 6
    },
    {
     "cell_type": "markdown",
     "metadata": {},
     "source": [
      "#####Moran's I using the digitized network"
     ]
    },
    {
     "cell_type": "code",
     "collapsed": false,
     "input": [
      "#Binary Adjacency\n",
      "ntw.contiguityweights(graph=False)\n",
      "\n",
      "#Build the y vector\n",
      "edges = ntw.w.neighbors.keys()\n",
      "y = np.zeros(len(edges))\n",
      "for i, e in enumerate(edges):\n",
      "    if e in counts.keys():\n",
      "        y[i] = counts[e]\n",
      "\n",
      "#Moran's I\n",
      "res = ps.esda.moran.Moran(y, ntw.w, permutations=99)\n",
      "print dir(res)"
     ],
     "language": "python",
     "metadata": {},
     "outputs": [
      {
       "output_type": "stream",
       "stream": "stdout",
       "text": [
        "['EI', 'EI_sim', 'I', 'VI_norm', 'VI_rand', 'VI_sim', '_Moran__calc', '_Moran__moments', '__doc__', '__init__', '__module__', 'n', 'p_norm', 'p_rand', 'p_sim', 'p_z_sim', 'permutations', 'seI_norm', 'seI_rand', 'seI_sim', 'sim', 'w', 'y', 'z', 'z2ss', 'z_norm', 'z_rand', 'z_sim']\n"
       ]
      }
     ],
     "prompt_number": 7
    },
    {
     "cell_type": "markdown",
     "metadata": {},
     "source": [
      "####Moran's I using the graph representation to generate the W\n",
      "\n",
      "Note that we have to regenerate the counts per edge, since the graph will have less edges."
     ]
    },
    {
     "cell_type": "code",
     "collapsed": false,
     "input": [
      "counts = ntw.count_per_edge(ntw.pointpatterns['crimes'].obs_to_edge, graph=True)\n",
      "\n",
      "#Binary Adjacency\n",
      "ntw.contiguityweights(graph=True)\n",
      "\n",
      "#Build the y vector\n",
      "edges = ntw.w.neighbors.keys()\n",
      "y = np.zeros(len(edges))\n",
      "for i, e in enumerate(edges):\n",
      "    if e in counts.keys():\n",
      "        y[i] = counts[e]\n",
      "\n",
      "#Moran's I\n",
      "res = ps.esda.moran.Moran(y, ntw.w, permutations=99)\n",
      "print dir(res)"
     ],
     "language": "python",
     "metadata": {},
     "outputs": [
      {
       "output_type": "stream",
       "stream": "stdout",
       "text": [
        "['EI', 'EI_sim', 'I', 'VI_norm', 'VI_rand', 'VI_sim', '_Moran__calc', '_Moran__moments', '__doc__', '__init__', '__module__', 'n', 'p_norm', 'p_rand', 'p_sim', 'p_z_sim', 'permutations', 'seI_norm', 'seI_rand', 'seI_sim', 'sim', 'w', 'y', 'z', 'z2ss', 'z_norm', 'z_rand', 'z_sim']\n"
       ]
      }
     ],
     "prompt_number": 8
    },
    {
     "cell_type": "markdown",
     "metadata": {},
     "source": [
      "####Simulate a point pattern on the network\n",
      "\n",
      "Need to supply a count of the number of points and a distirbution (default is uniform).  Generally this will not be called by the user, since the simulation will be used for Monte Carlo permutation."
     ]
    },
    {
     "cell_type": "code",
     "collapsed": false,
     "input": [
      "npts = ntw.pointpatterns['crimes'].npoints\n",
      "sim = ntw.simulate_observations(npts)"
     ],
     "language": "python",
     "metadata": {},
     "outputs": [],
     "prompt_number": 9
    },
    {
     "cell_type": "markdown",
     "metadata": {},
     "source": [
      "####Create a nearest neighbor matrix using the crimes point pattern"
     ]
    },
    {
     "cell_type": "code",
     "collapsed": false,
     "input": [
      "nearest = ntw.nearestneighbordistances('crimes')\n",
      "nearest[0:10]"
     ],
     "language": "python",
     "metadata": {},
     "outputs": [
      {
       "metadata": {},
       "output_type": "pyout",
       "prompt_number": 13,
       "text": [
        "array([[  15.        ,  449.93911743],\n",
        "       [  19.        ,   78.1735611 ],\n",
        "       [   5.        ,   59.1481514 ],\n",
        "       [  15.        ,  350.92202759],\n",
        "       [   5.        ,  192.97348022],\n",
        "       [   5.        ,  128.0333252 ],\n",
        "       [   6.        ,   37.39252472],\n",
        "       [   7.        ,  137.06668091],\n",
        "       [   7.        ,  137.06668091],\n",
        "       [   7.        ,  227.06126404]], dtype=float32)"
       ]
      }
     ],
     "prompt_number": 13
    },
    {
     "cell_type": "markdown",
     "metadata": {},
     "source": [
      "#### Create a nearest neight matrix using the schools point pattern as the source, and the crimes as the destination"
     ]
    },
    {
     "cell_type": "code",
     "collapsed": false,
     "input": [
      "nearest = ntw.nearestneighbordistances('crimes', 'schools')\n",
      "nearest[:10]"
     ],
     "language": "python",
     "metadata": {},
     "outputs": [
      {
       "metadata": {},
       "output_type": "pyout",
       "prompt_number": 14,
       "text": [
        "array([[  2.00000000e+00,   5.35779834e+03],\n",
        "       [  2.00000000e+00,   1.12403877e+04],\n",
        "       [  2.00000000e+00,   2.35886157e+03],\n",
        "       [  2.00000000e+00,   7.45948291e+03],\n",
        "       [  2.00000000e+00,   2.49268701e+03],\n",
        "       [  2.00000000e+00,   1.06799243e+03],\n",
        "       [  2.00000000e+00,   6.04664062e+03],\n",
        "       [  2.00000000e+00,   1.73286194e+03],\n",
        "       [  2.00000000e+00,   1.73286194e+03],\n",
        "       [  2.00000000e+00,   1.64286731e+03]], dtype=float32)"
       ]
      }
     ],
     "prompt_number": 14
    },
    {
     "cell_type": "code",
     "collapsed": false,
     "input": [],
     "language": "python",
     "metadata": {},
     "outputs": []
    },
    {
     "cell_type": "code",
     "collapsed": false,
     "input": [
      "def dijkstra(ntw, cost, node, n=float('inf')):\n",
      "    \"\"\"\n",
      "    Compute the shortest path between a start node and\n",
      "        all other nodes in the wed.\n",
      "    Parameters\n",
      "    ----------\n",
      "    ntw: PySAL network object\n",
      "    cost: Cost per edge to travel, e.g. distance\n",
      "    node: Start node ID\n",
      "    n: integer break point to stop iteration and return n\n",
      "     neighbors\n",
      "    Returns:\n",
      "    distance: List of distances from node to all other nodes\n",
      "    pred : List of preceeding nodes for traversal route\n",
      "    \"\"\"\n",
      "\n",
      "    v0 = node\n",
      "    distance = [float('inf') for x in ntw.node_list]\n",
      "    idx = ntw.node_list.index(v0)\n",
      "    distance[ntw.node_list.index(v0)] = 0\n",
      "    pred = [-1 for x in ntw.node_list]\n",
      "    a = set()\n",
      "    a.add(v0)\n",
      "    while len(a) > 0:\n",
      "        #Get node with the lowest value from distance\n",
      "        dist = float('inf')\n",
      "        for node in a:\n",
      "            if distance[node] < dist:\n",
      "                dist = distance[node]\n",
      "                v = node\n",
      "        #Remove that node from the set\n",
      "        a.remove(v)\n",
      "        last = v\n",
      "        #4. Get the neighbors to the current node\n",
      "        neighbors = get_neighbor_distances(ntw, v, cost)\n",
      "        for v1, indiv_cost in neighbors.iteritems():\n",
      "            if distance[v1] > distance[v] + indiv_cost:\n",
      "                distance[v1] = distance[v] + indiv_cost\n",
      "                pred[v1] = v\n",
      "                a.add(v1)\n",
      "    return distance, np.array(pred, dtype=np.int)"
     ],
     "language": "python",
     "metadata": {},
     "outputs": []
    },
    {
     "cell_type": "code",
     "collapsed": false,
     "input": [
      "def multisource_djikstra(ntw, cost, generatornodes):\n",
      "    V = ntw.nodes.values()\n",
      "    nnetworknodes = len(V)\n",
      "    generatornodes = set([i + nnetworknodes for i in generatornodes.points.keys()])\n",
      "    nnodes = len(V) + len(generatornodes)\n",
      "        \n",
      "    #1.  dv = 0 for all v in generatornodes, tv = v for all v in generator nodes \n",
      "    distance = np.zeros(nnodes)\n",
      "    tv = np.zeros(nnodes)\n",
      "    for i in generatornodes:\n",
      "        tv[i] = i\n",
      "    #2.dv = inf for all v in V not also in P\n",
      "    distance[:nnetworknodes] = np.inf\n",
      "    #3. \n",
      "    a = set(generatornodes)\n",
      "    while len(a) > 0:\n",
      "        #Get node with the lowest value from distance\n",
      "        dist = float('inf')\n",
      "        for node in a:\n",
      "            if distance[node] < dist:\n",
      "                dist = distance[node]\n",
      "                v = node\n",
      "        #Remove that node from the set\n",
      "        a.remove(v)\n",
      "        last = v\n",
      "        edges = ntw.enum_links_node(v)\n",
      "        if len(edges) == 0:\n",
      "            \n",
      "        print edges\n",
      "        break\n",
      "    \n",
      "    \n",
      "    \n",
      "    \n",
      "    "
     ],
     "language": "python",
     "metadata": {},
     "outputs": [],
     "prompt_number": 77
    },
    {
     "cell_type": "code",
     "collapsed": false,
     "input": [
      "multisource_djikstra(ntw, ntw.edge_lengths, ntw.pointpatterns['crimes'])"
     ],
     "language": "python",
     "metadata": {},
     "outputs": [
      {
       "output_type": "stream",
       "stream": "stdout",
       "text": [
        "[]\n"
       ]
      }
     ],
     "prompt_number": 78
    },
    {
     "cell_type": "code",
     "collapsed": false,
     "input": [],
     "language": "python",
     "metadata": {},
     "outputs": [],
     "prompt_number": 22
    },
    {
     "cell_type": "code",
     "collapsed": false,
     "input": [],
     "language": "python",
     "metadata": {},
     "outputs": []
    },
    {
     "cell_type": "code",
     "collapsed": false,
     "input": [],
     "language": "python",
     "metadata": {},
     "outputs": []
    }
   ],
   "metadata": {}
  }
 ]
}