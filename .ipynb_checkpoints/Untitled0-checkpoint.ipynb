{
 "metadata": {
  "name": "",
  "signature": "sha256:2c68152e98fbd415953582d274d27ba7cbb44d2662b5797f11288d85f60ddf54"
 },
 "nbformat": 3,
 "nbformat_minor": 0,
 "worksheets": [
  {
   "cells": [
    {
     "cell_type": "code",
     "collapsed": false,
     "input": [
      "try:\n",
      "    reload(network)\n",
      "except:\n",
      "    import network"
     ],
     "language": "python",
     "metadata": {},
     "outputs": [],
     "prompt_number": 11
    },
    {
     "cell_type": "code",
     "collapsed": false,
     "input": [
      "ntw = network.Network('geodanet/streets.shp')\n",
      "pts = network.PointPattern('geodanet/crimes.shp')"
     ],
     "language": "python",
     "metadata": {},
     "outputs": [],
     "prompt_number": 12
    },
    {
     "cell_type": "code",
     "collapsed": false,
     "input": [],
     "language": "python",
     "metadata": {},
     "outputs": []
    }
   ],
   "metadata": {}
  }
 ]
}